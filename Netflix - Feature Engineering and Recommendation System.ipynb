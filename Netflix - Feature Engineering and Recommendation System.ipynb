{
 "cells": [
  {
   "cell_type": "markdown",
   "id": "ee919fd7",
   "metadata": {},
   "source": [
    "# Feature Engineering"
   ]
  },
  {
   "cell_type": "code",
   "execution_count": 10,
   "id": "2e3b67cd",
   "metadata": {},
   "outputs": [],
   "source": [
    "import pandas as pd\n",
    "import numpy as np\n",
    "import matplotlib.pyplot as plt\n",
    "import seaborn as sns\n",
    "import hashlib\n",
    "from sklearn.feature_extraction.text import TfidfVectorizer\n",
    "from sklearn.metrics.pairwise import cosine_similarity\n",
    "from sklearn.cluster import KMeans\n",
    "from sklearn.decomposition import PCA\n",
    "from sklearn.model_selection import train_test_split\n",
    "from sklearn.ensemble import RandomForestClassifier\n",
    "from sklearn.metrics import classification_report, confusion_matrix\n",
    "from surprise import Dataset, Reader, SVD\n",
    "from surprise.model_selection import cross_validate"
   ]
  },
  {
   "cell_type": "code",
   "execution_count": 2,
   "id": "1af2893a",
   "metadata": {},
   "outputs": [],
   "source": [
    "df = pd.read_csv(\"Netflix1.csv\")"
   ]
  },
  {
   "cell_type": "code",
   "execution_count": 3,
   "id": "16e8e7e8",
   "metadata": {},
   "outputs": [
    {
     "data": {
      "text/html": [
       "<div>\n",
       "<style scoped>\n",
       "    .dataframe tbody tr th:only-of-type {\n",
       "        vertical-align: middle;\n",
       "    }\n",
       "\n",
       "    .dataframe tbody tr th {\n",
       "        vertical-align: top;\n",
       "    }\n",
       "\n",
       "    .dataframe thead th {\n",
       "        text-align: right;\n",
       "    }\n",
       "</style>\n",
       "<table border=\"1\" class=\"dataframe\">\n",
       "  <thead>\n",
       "    <tr style=\"text-align: right;\">\n",
       "      <th></th>\n",
       "      <th>show_id</th>\n",
       "      <th>type</th>\n",
       "      <th>title</th>\n",
       "      <th>director</th>\n",
       "      <th>country</th>\n",
       "      <th>date_added</th>\n",
       "      <th>release_year</th>\n",
       "      <th>rating</th>\n",
       "      <th>duration</th>\n",
       "      <th>listed_in</th>\n",
       "    </tr>\n",
       "  </thead>\n",
       "  <tbody>\n",
       "    <tr>\n",
       "      <th>0</th>\n",
       "      <td>s1</td>\n",
       "      <td>Movie</td>\n",
       "      <td>Dick Johnson Is Dead</td>\n",
       "      <td>Kirsten Johnson</td>\n",
       "      <td>United States</td>\n",
       "      <td>9/25/2021</td>\n",
       "      <td>2020</td>\n",
       "      <td>PG-13</td>\n",
       "      <td>90 min</td>\n",
       "      <td>Documentaries</td>\n",
       "    </tr>\n",
       "    <tr>\n",
       "      <th>1</th>\n",
       "      <td>s3</td>\n",
       "      <td>TV Show</td>\n",
       "      <td>Ganglands</td>\n",
       "      <td>Julien Leclercq</td>\n",
       "      <td>France</td>\n",
       "      <td>9/24/2021</td>\n",
       "      <td>2021</td>\n",
       "      <td>TV-MA</td>\n",
       "      <td>1 Season</td>\n",
       "      <td>Crime TV Shows, International TV Shows, TV Act...</td>\n",
       "    </tr>\n",
       "    <tr>\n",
       "      <th>2</th>\n",
       "      <td>s6</td>\n",
       "      <td>TV Show</td>\n",
       "      <td>Midnight Mass</td>\n",
       "      <td>Mike Flanagan</td>\n",
       "      <td>United States</td>\n",
       "      <td>9/24/2021</td>\n",
       "      <td>2021</td>\n",
       "      <td>TV-MA</td>\n",
       "      <td>1 Season</td>\n",
       "      <td>TV Dramas, TV Horror, TV Mysteries</td>\n",
       "    </tr>\n",
       "    <tr>\n",
       "      <th>3</th>\n",
       "      <td>s14</td>\n",
       "      <td>Movie</td>\n",
       "      <td>Confessions of an Invisible Girl</td>\n",
       "      <td>Bruno Garotti</td>\n",
       "      <td>Brazil</td>\n",
       "      <td>9/22/2021</td>\n",
       "      <td>2021</td>\n",
       "      <td>TV-PG</td>\n",
       "      <td>91 min</td>\n",
       "      <td>Children &amp; Family Movies, Comedies</td>\n",
       "    </tr>\n",
       "    <tr>\n",
       "      <th>4</th>\n",
       "      <td>s8</td>\n",
       "      <td>Movie</td>\n",
       "      <td>Sankofa</td>\n",
       "      <td>Haile Gerima</td>\n",
       "      <td>United States</td>\n",
       "      <td>9/24/2021</td>\n",
       "      <td>1993</td>\n",
       "      <td>TV-MA</td>\n",
       "      <td>125 min</td>\n",
       "      <td>Dramas, Independent Movies, International Movies</td>\n",
       "    </tr>\n",
       "  </tbody>\n",
       "</table>\n",
       "</div>"
      ],
      "text/plain": [
       "  show_id     type                             title         director  \\\n",
       "0      s1    Movie              Dick Johnson Is Dead  Kirsten Johnson   \n",
       "1      s3  TV Show                         Ganglands  Julien Leclercq   \n",
       "2      s6  TV Show                     Midnight Mass    Mike Flanagan   \n",
       "3     s14    Movie  Confessions of an Invisible Girl    Bruno Garotti   \n",
       "4      s8    Movie                           Sankofa     Haile Gerima   \n",
       "\n",
       "         country date_added  release_year rating  duration  \\\n",
       "0  United States  9/25/2021          2020  PG-13    90 min   \n",
       "1         France  9/24/2021          2021  TV-MA  1 Season   \n",
       "2  United States  9/24/2021          2021  TV-MA  1 Season   \n",
       "3         Brazil  9/22/2021          2021  TV-PG    91 min   \n",
       "4  United States  9/24/2021          1993  TV-MA   125 min   \n",
       "\n",
       "                                           listed_in  \n",
       "0                                      Documentaries  \n",
       "1  Crime TV Shows, International TV Shows, TV Act...  \n",
       "2                 TV Dramas, TV Horror, TV Mysteries  \n",
       "3                 Children & Family Movies, Comedies  \n",
       "4   Dramas, Independent Movies, International Movies  "
      ]
     },
     "execution_count": 3,
     "metadata": {},
     "output_type": "execute_result"
    }
   ],
   "source": [
    "df.head()"
   ]
  },
  {
   "cell_type": "code",
   "execution_count": 4,
   "id": "aed67942",
   "metadata": {},
   "outputs": [],
   "source": [
    "df['date_added'] = pd.to_datetime(df['date_added'], errors='coerce')\n",
    "df.drop_duplicates(inplace=True)\n",
    "df.dropna(subset=['title', 'type', 'rating'], inplace=True)\n"
   ]
  },
  {
   "cell_type": "code",
   "execution_count": 5,
   "id": "3ded1bc3",
   "metadata": {},
   "outputs": [],
   "source": [
    "for col in df.select_dtypes(include='object'):\n",
    "    df[col].fillna(df[col].mode()[0], inplace=True)\n",
    "for col in df.select_dtypes(include='number'):\n",
    "    df[col].fillna(df[col].median(), inplace=True)"
   ]
  },
  {
   "cell_type": "code",
   "execution_count": 6,
   "id": "5f05f139",
   "metadata": {},
   "outputs": [],
   "source": [
    "df['duration_minutes'] = df['duration'].str.extract('(\\d+)').astype(float)"
   ]
  },
  {
   "cell_type": "code",
   "execution_count": 7,
   "id": "b535af6a",
   "metadata": {},
   "outputs": [],
   "source": [
    "df['num_genres'] = df['listed_in'].apply(lambda x: len(x.split(',')))"
   ]
  },
  {
   "cell_type": "code",
   "execution_count": 8,
   "id": "fbfbc418",
   "metadata": {},
   "outputs": [],
   "source": [
    "df['content_age'] = 2024 - df['date_added'].dt.year"
   ]
  },
  {
   "cell_type": "code",
   "execution_count": 9,
   "id": "8f53aadd",
   "metadata": {},
   "outputs": [],
   "source": [
    "df['release_day'] = df['date_added'].dt.day\n",
    "df['release_month'] = df['date_added'].dt.month\n",
    "df['release_year'] = df['date_added'].dt.year"
   ]
  },
  {
   "cell_type": "markdown",
   "id": "a84afc15",
   "metadata": {},
   "source": [
    "# Recommendation System"
   ]
  },
  {
   "cell_type": "markdown",
   "id": "1d1bbe57",
   "metadata": {},
   "source": [
    "## Content-Based Recommendation "
   ]
  },
  {
   "cell_type": "code",
   "execution_count": 11,
   "id": "186ad359",
   "metadata": {},
   "outputs": [],
   "source": [
    "tfidf = TfidfVectorizer(stop_words='english')\n",
    "tfidf_matrix = tfidf.fit_transform(df['listed_in'].fillna(\"\"))\n",
    "cosine_sim = cosine_similarity(tfidf_matrix, tfidf_matrix)"
   ]
  },
  {
   "cell_type": "code",
   "execution_count": 12,
   "id": "8468605e",
   "metadata": {},
   "outputs": [],
   "source": [
    "def recommend_content(title, df, cosine_sim):\n",
    "    idx = df[df['title'] == title].index[0]\n",
    "    sim_scores = list(enumerate(cosine_sim[idx]))\n",
    "    sim_scores = sorted(sim_scores, key=lambda x: x[1], reverse=True)[1:6]\n",
    "    return df['title'].iloc[[i[0] for i in sim_scores]]"
   ]
  },
  {
   "cell_type": "code",
   "execution_count": 13,
   "id": "2ce7dc1a",
   "metadata": {},
   "outputs": [
    {
     "data": {
      "text/plain": [
       "184          Chappie\n",
       "205    Green Lantern\n",
       "466          Beowulf\n",
       "729    Mortal Kombat\n",
       "742        Star Trek\n",
       "Name: title, dtype: object"
      ]
     },
     "execution_count": 13,
     "metadata": {},
     "output_type": "execute_result"
    }
   ],
   "source": [
    "recommend_content(\"Inception\", df, cosine_sim)"
   ]
  },
  {
   "cell_type": "markdown",
   "id": "1e9c3b9d",
   "metadata": {},
   "source": [
    "## Collaborative Filtering"
   ]
  },
  {
   "cell_type": "code",
   "execution_count": 14,
   "id": "c965d31d",
   "metadata": {},
   "outputs": [],
   "source": [
    "df['user_id'] = df['title'].apply(lambda x: int(hashlib.sha256(x.encode()).hexdigest(), 16) % 1000)\n",
    "df['movie_id'] = df['show_id'].str.extract('(\\\\d+)').fillna(0).astype(int)\n",
    "df['rating_score'] = df['rating'].astype('category').cat.codes + 1"
   ]
  },
  {
   "cell_type": "code",
   "execution_count": 15,
   "id": "6dd9a73a",
   "metadata": {},
   "outputs": [
    {
     "name": "stdout",
     "output_type": "stream",
     "text": [
      "Evaluating RMSE, MAE of algorithm SVD on 5 split(s).\n",
      "\n",
      "                  Fold 1  Fold 2  Fold 3  Fold 4  Fold 5  Mean    Std     \n",
      "RMSE (testset)    3.6177  3.5499  3.6111  3.5447  3.6392  3.5925  0.0381  \n",
      "MAE (testset)     3.1684  3.1035  3.1712  3.1143  3.2321  3.1579  0.0461  \n",
      "Fit time          0.22    0.22    0.22    0.22    0.22    0.22    0.00    \n",
      "Test time         0.02    0.02    0.02    0.02    0.02    0.02    0.00    \n"
     ]
    },
    {
     "data": {
      "text/plain": [
       "{'test_rmse': array([3.61767875, 3.54990426, 3.61114757, 3.54469271, 3.63915629]),\n",
       " 'test_mae': array([3.16837315, 3.10352673, 3.17121729, 3.11433447, 3.23208191]),\n",
       " 'fit_time': (0.21673583984375,\n",
       "  0.22391629219055176,\n",
       "  0.22467422485351562,\n",
       "  0.21635818481445312,\n",
       "  0.22137856483459473),\n",
       " 'test_time': (0.0200042724609375,\n",
       "  0.017553329467773438,\n",
       "  0.017003536224365234,\n",
       "  0.01600337028503418,\n",
       "  0.017554283142089844)}"
      ]
     },
     "execution_count": 15,
     "metadata": {},
     "output_type": "execute_result"
    }
   ],
   "source": [
    "reader = Reader(rating_scale=(1, 5))\n",
    "data = Dataset.load_from_df(df[['user_id', 'movie_id', 'rating_score']], reader)\n",
    "trainset = data.build_full_trainset()\n",
    "model = SVD()\n",
    "model.fit(trainset)\n",
    "cross_validate(model, data, measures=['RMSE', 'MAE'], cv=5, verbose=True)"
   ]
  },
  {
   "cell_type": "code",
   "execution_count": 16,
   "id": "906320e6",
   "metadata": {},
   "outputs": [],
   "source": [
    "def recommend_collaborative(user_id, df, model):\n",
    "    all_movies = df['movie_id'].unique()\n",
    "    predictions = [model.predict(user_id, movie_id) for movie_id in all_movies]\n",
    "    predictions.sort(key=lambda x: x.est, reverse=True)\n",
    "    top_movies = [df[df['movie_id'] == pred.iid]['title'].values[0] for pred in predictions[:5]]\n",
    "    return top_movies"
   ]
  },
  {
   "cell_type": "code",
   "execution_count": 17,
   "id": "6fe013d1",
   "metadata": {},
   "outputs": [
    {
     "data": {
      "text/plain": [
       "['Dick Johnson Is Dead',\n",
       " 'Ganglands',\n",
       " 'Midnight Mass',\n",
       " 'Confessions of an Invisible Girl',\n",
       " 'Sankofa']"
      ]
     },
     "execution_count": 17,
     "metadata": {},
     "output_type": "execute_result"
    }
   ],
   "source": [
    "recommend_collaborative(101, df, model)"
   ]
  },
  {
   "cell_type": "markdown",
   "id": "abd481b3",
   "metadata": {},
   "source": [
    "## Clustering with KMeans"
   ]
  },
  {
   "cell_type": "code",
   "execution_count": 18,
   "id": "c06f9717",
   "metadata": {},
   "outputs": [],
   "source": [
    "pca = PCA(n_components=2)\n",
    "tfidf_reduced = pca.fit_transform(tfidf_matrix.toarray())"
   ]
  },
  {
   "cell_type": "code",
   "execution_count": 19,
   "id": "6bae0d41",
   "metadata": {},
   "outputs": [],
   "source": [
    "kmeans = KMeans(n_clusters=5, n_init=10, random_state=42)\n",
    "clusters = kmeans.fit_predict(tfidf_reduced)\n",
    "df['cluster'] = clusters"
   ]
  },
  {
   "cell_type": "code",
   "execution_count": 20,
   "id": "cf7849d7",
   "metadata": {},
   "outputs": [
    {
     "data": {
      "image/png": "[encoded data removed]",
      "text/plain": [
       "<Figure size 1000x600 with 1 Axes>"
      ]
     },
     "metadata": {},
     "output_type": "display_data"
    }
   ],
   "source": [
    "plt.figure(figsize=(10,6))\n",
    "plt.scatter(tfidf_reduced[:,0], tfidf_reduced[:,1], c=clusters, cmap='viridis')\n",
    "plt.title(\"KMeans Clustering of Netflix Content (based on listed_in)\")\n",
    "plt.xlabel(\"PCA Component 1\")\n",
    "plt.ylabel(\"PCA Component 2\")\n",
    "plt.show()"
   ]
  },
  {
   "cell_type": "markdown",
   "id": "6673c882",
   "metadata": {},
   "source": [
    "## Classification - Predict Rating Label"
   ]
  },
  {
   "cell_type": "code",
   "execution_count": 21,
   "id": "f9b5db41",
   "metadata": {},
   "outputs": [],
   "source": [
    "features = df[['duration_minutes', 'num_genres', 'content_age']]\n",
    "labels = df['rating']\n",
    "\n",
    "X_train, X_test, y_train, y_test = train_test_split(features, labels, test_size=0.2, random_state=42)"
   ]
  },
  {
   "cell_type": "code",
   "execution_count": 22,
   "id": "5ed09b6d",
   "metadata": {},
   "outputs": [],
   "source": [
    "clf = RandomForestClassifier(n_estimators=100, random_state=42)\n",
    "clf.fit(X_train, y_train)\n",
    "y_pred = clf.predict(X_test)"
   ]
  },
  {
   "cell_type": "code",
   "execution_count": 25,
   "id": "f353c4eb",
   "metadata": {},
   "outputs": [
    {
     "name": "stdout",
     "output_type": "stream",
     "text": [
      "\n",
      "Classification Report:\n",
      "              precision    recall  f1-score   support\n",
      "\n",
      "           G       0.00      0.00      0.00        12\n",
      "          NR       0.29      0.10      0.14        21\n",
      "          PG       0.12      0.06      0.08        54\n",
      "       PG-13       0.16      0.15      0.15        93\n",
      "           R       0.28      0.25      0.26       155\n",
      "       TV-14       0.34      0.34      0.34       444\n",
      "        TV-G       0.08      0.05      0.06        44\n",
      "       TV-MA       0.43      0.57      0.49       628\n",
      "       TV-PG       0.16      0.09      0.12       181\n",
      "        TV-Y       0.39      0.29      0.33        66\n",
      "       TV-Y7       0.22      0.20      0.21        59\n",
      "          UR       1.00      0.00      0.00         1\n",
      "\n",
      "    accuracy                           0.35      1758\n",
      "   macro avg       0.29      0.17      0.18      1758\n",
      "weighted avg       0.32      0.35      0.33      1758\n",
      "\n",
      "\n",
      "Confusion Matrix:\n",
      "[[  0   0   0   0   1   0   0  10   0   1   0   0]\n",
      " [  0   2   1   0   2   4   1   9   1   0   1   0]\n",
      " [  0   1   3   8   6  14   1  15   2   1   3   0]\n",
      " [  0   0   3  14  14  16   2  41   1   0   2   0]\n",
      " [  0   0   4  20  39  34   1  52   5   0   0   0]\n",
      " [  2   1   3  17  21 149   3 209  31   2   6   0]\n",
      " [  0   0   0   0   1   8   2  23   4   2   4   0]\n",
      " [  0   3   9  21  45 138  13 355  26  10   8   0]\n",
      " [  0   0   1   7   8  52   3  80  16   6   8   0]\n",
      " [  0   0   1   0   1   8   0  18   8  19  11   0]\n",
      " [  0   0   0   2   2  11   0  21   3   8  12   0]\n",
      " [  0   0   0   0   0   1   0   0   0   0   0   0]]\n"
     ]
    }
   ],
   "source": [
    "print(\"\\nClassification Report:\")\n",
    "print(classification_report(y_test, y_pred ,zero_division=1))\n",
    "print(\"\\nConfusion Matrix:\")\n",
    "print(confusion_matrix(y_test, y_pred))"
   ]
  },
  {
   "cell_type": "code",
   "execution_count": null,
   "id": "baf9b85a",
   "metadata": {},
   "outputs": [],
   "source": []
  }
 ],
 "metadata": {
  "kernelspec": {
   "display_name": "Python 3 (ipykernel)",
   "language": "python",
   "name": "python3"
  },
  "language_info": {
   "codemirror_mode": {
    "name": "ipython",
    "version": 3
   },
   "file_extension": ".py",
   "mimetype": "text/x-python",
   "name": "python",
   "nbconvert_exporter": "python",
   "pygments_lexer": "ipython3",
   "version": "3.10.9"
  }
 },
 "nbformat": 4,
 "nbformat_minor": 5
}
